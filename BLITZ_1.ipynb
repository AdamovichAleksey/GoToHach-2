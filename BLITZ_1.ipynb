{
 "cells": [
  {
   "cell_type": "code",
   "execution_count": 187,
   "metadata": {
    "collapsed": false
   },
   "outputs": [],
   "source": [
    "import pandas as pd\n",
    "import numpy as np\n",
    "import datetime\n",
    "\n",
    "structure = pd.read_csv('course-217-structure.csv')\n",
    "events = pd.read_csv('course-217-events.csv')\n",
    "events['time_f'] = pd.to_datetime(events['time'], unit='s')"
   ]
  },
  {
   "cell_type": "code",
   "execution_count": 188,
   "metadata": {
    "collapsed": false
   },
   "outputs": [
    {
     "name": "stdout",
     "output_type": "stream",
     "text": [
      "   course_id  module_id  module_position  lesson_id  lesson_position  step_id  \\\n",
      "0        217        614                2      13228                2    38842   \n",
      "1        217        614                2      13228                2    39715   \n",
      "2        217        614                2      13228                2    39716   \n",
      "3        217        614                2      13228                2    39717   \n",
      "4        217        614                2      13228                2    39721   \n",
      "\n",
      "   step_position    step_type  step_cost  \n",
      "0              1         text          0  \n",
      "1              6         code          1  \n",
      "2              7         code          1  \n",
      "3              8         code          1  \n",
      "4              9  free-answer          0   \n",
      "\n",
      "course_id           int64\n",
      "module_id           int64\n",
      "module_position     int64\n",
      "lesson_id           int64\n",
      "lesson_position     int64\n",
      "step_id             int64\n",
      "step_position       int64\n",
      "step_type          object\n",
      "step_cost           int64\n",
      "dtype: object\n"
     ]
    }
   ],
   "source": [
    "print(structure.head(), '\\n')\n",
    "print(structure.dtypes)"
   ]
  },
  {
   "cell_type": "code",
   "execution_count": 189,
   "metadata": {
    "collapsed": false
   },
   "outputs": [
    {
     "name": "stdout",
     "output_type": "stream",
     "text": [
      "   user_id  action  step_id        time              time_f\n",
      "0        1  viewed    47435  1465181036 2016-06-06 02:43:56\n",
      "1        1  viewed    47438  1465181034 2016-06-06 02:43:54\n",
      "2        1  viewed    47435  1465181021 2016-06-06 02:43:41\n",
      "3        1  viewed    47436  1465181015 2016-06-06 02:43:35\n",
      "4        1  viewed    41605  1465180037 2016-06-06 02:27:17 \n",
      "\n",
      "user_id             int64\n",
      "action             object\n",
      "step_id             int64\n",
      "time                int64\n",
      "time_f     datetime64[ns]\n",
      "dtype: object\n"
     ]
    }
   ],
   "source": [
    "print(events.head(), '\\n')\n",
    "print(events.dtypes)"
   ]
  },
  {
   "cell_type": "code",
   "execution_count": 190,
   "metadata": {
    "collapsed": false
   },
   "outputs": [
    {
     "name": "stdout",
     "output_type": "stream",
     "text": [
      "   user_id  action  step_id        time              time_f  step_cost\n",
      "0        1  viewed    47435  1465181036 2016-06-06 02:43:56          0\n",
      "1        1  viewed    47438  1465181034 2016-06-06 02:43:54          0\n",
      "2        1  viewed    47435  1465181021 2016-06-06 02:43:41          0\n",
      "3        1  viewed    47436  1465181015 2016-06-06 02:43:35          0\n",
      "4        1  viewed    41605  1465180037 2016-06-06 02:27:17          1\n"
     ]
    }
   ],
   "source": [
    "events = pd.merge(\n",
    "    left = events,\n",
    "    right = structure[['step_id', 'step_cost']], \n",
    "    how = 'left', \n",
    "    on = 'step_id')\n",
    "\n",
    "print(events.head())"
   ]
  },
  {
   "cell_type": "code",
   "execution_count": 191,
   "metadata": {
    "collapsed": false
   },
   "outputs": [],
   "source": [
    "# отсортируем таблицу по time\n",
    "events.sort_values('time', inplace = True)\n",
    "\n",
    "# выберем уникальные user_id и создадим словарь для подсчёта затраченого времени\n",
    "unique_user_id = set(events['user_id'])\n",
    "user_time_passed = {}\n",
    "\n",
    "# время начала курса будет в 1 строке (индекс = 0) таблицы 'events', отфильтрованой по пользователю (время совершения первого шага)\n",
    "# время окончания курса будет в 24 строке (индекс = 23) таблицы 'events_end_time' отфильтрованой по пользователю + \n",
    "        # + отфильтрованной по пройденным шагам, за которые дают баллы\n",
    "events_end_time = events[(events['step_cost'] == 1) & \n",
    "            (events['action'] == 'passed')]\n",
    "    \n",
    "for user in unique_user_id:\n",
    "    \n",
    "    user_df = events[events['user_id'] == user]\n",
    "    user_df_end_time = events_end_time[events_end_time['user_id'] == user]\n",
    "    \n",
    "    # определяем время начала курса\n",
    "    start_time = user_df.iloc[0].loc['time']\n",
    "    try:\n",
    "        # определяем время начала курса (если он окончился)\n",
    "        end_time = user_df_end_time.iloc[23].loc['time']        \n",
    "        user_time_passed[user] = end_time - start_time\n",
    "    except Exception:\n",
    "        pass\n",
    "# делаем из словаря таблицу и конвертируем время    \n",
    "user_time_passed_df = pd.DataFrame(data = list(user_time_passed.values()), index = list(user_time_passed.keys()), columns = ['time'])\n",
    "user_time_passed_df['time_f'] = pd.to_timedelta(user_time_passed_df['time'], unit='s')"
   ]
  },
  {
   "cell_type": "code",
   "execution_count": 197,
   "metadata": {
    "collapsed": false
   },
   "outputs": [
    {
     "data": {
      "text/html": [
       "<div>\n",
       "<table border=\"1\" class=\"dataframe\">\n",
       "  <thead>\n",
       "    <tr style=\"text-align: right;\">\n",
       "      <th></th>\n",
       "      <th>time</th>\n",
       "      <th>time_f</th>\n",
       "    </tr>\n",
       "  </thead>\n",
       "  <tbody>\n",
       "    <tr>\n",
       "      <th>4313</th>\n",
       "      <td>41390</td>\n",
       "      <td>0 days 11:29:50</td>\n",
       "    </tr>\n",
       "    <tr>\n",
       "      <th>1264</th>\n",
       "      <td>207886</td>\n",
       "      <td>2 days 09:44:46</td>\n",
       "    </tr>\n",
       "    <tr>\n",
       "      <th>821</th>\n",
       "      <td>348179</td>\n",
       "      <td>4 days 00:42:59</td>\n",
       "    </tr>\n",
       "    <tr>\n",
       "      <th>1146</th>\n",
       "      <td>549445</td>\n",
       "      <td>6 days 08:37:25</td>\n",
       "    </tr>\n",
       "    <tr>\n",
       "      <th>1124</th>\n",
       "      <td>575883</td>\n",
       "      <td>6 days 15:58:03</td>\n",
       "    </tr>\n",
       "    <tr>\n",
       "      <th>2622</th>\n",
       "      <td>847958</td>\n",
       "      <td>9 days 19:32:38</td>\n",
       "    </tr>\n",
       "    <tr>\n",
       "      <th>713</th>\n",
       "      <td>868600</td>\n",
       "      <td>10 days 01:16:40</td>\n",
       "    </tr>\n",
       "    <tr>\n",
       "      <th>972</th>\n",
       "      <td>1079659</td>\n",
       "      <td>12 days 11:54:19</td>\n",
       "    </tr>\n",
       "    <tr>\n",
       "      <th>4280</th>\n",
       "      <td>1081656</td>\n",
       "      <td>12 days 12:27:36</td>\n",
       "    </tr>\n",
       "    <tr>\n",
       "      <th>1291</th>\n",
       "      <td>1181486</td>\n",
       "      <td>13 days 16:11:26</td>\n",
       "    </tr>\n",
       "  </tbody>\n",
       "</table>\n",
       "</div>"
      ],
      "text/plain": [
       "         time           time_f\n",
       "4313    41390  0 days 11:29:50\n",
       "1264   207886  2 days 09:44:46\n",
       "821    348179  4 days 00:42:59\n",
       "1146   549445  6 days 08:37:25\n",
       "1124   575883  6 days 15:58:03\n",
       "2622   847958  9 days 19:32:38\n",
       "713    868600 10 days 01:16:40\n",
       "972   1079659 12 days 11:54:19\n",
       "4280  1081656 12 days 12:27:36\n",
       "1291  1181486 13 days 16:11:26"
      ]
     },
     "execution_count": 197,
     "metadata": {},
     "output_type": "execute_result"
    }
   ],
   "source": [
    "top_10 = user_time_passed_df.sort_values('time').head(10)\n",
    "top_10"
   ]
  },
  {
   "cell_type": "code",
   "execution_count": 199,
   "metadata": {
    "collapsed": false
   },
   "outputs": [
    {
     "name": "stdout",
     "output_type": "stream",
     "text": [
      "ОТВЕТ:\n"
     ]
    },
    {
     "data": {
      "text/plain": [
       "[4313, 1264, 821, 1146, 1124, 2622, 713, 972, 4280, 1291]"
      ]
     },
     "execution_count": 199,
     "metadata": {},
     "output_type": "execute_result"
    }
   ],
   "source": [
    "# ОТВЕТ:\n",
    "print('ОТВЕТ:')\n",
    "list(top_10.index)"
   ]
  }
 ],
 "metadata": {
  "anaconda-cloud": {},
  "kernelspec": {
   "display_name": "Python [default]",
   "language": "python",
   "name": "python3"
  },
  "language_info": {
   "codemirror_mode": {
    "name": "ipython",
    "version": 3
   },
   "file_extension": ".py",
   "mimetype": "text/x-python",
   "name": "python",
   "nbconvert_exporter": "python",
   "pygments_lexer": "ipython3",
   "version": "3.5.2"
  }
 },
 "nbformat": 4,
 "nbformat_minor": 1
}
