{
 "cells": [
  {
   "cell_type": "code",
   "execution_count": 1,
   "metadata": {
    "collapsed": false
   },
   "outputs": [],
   "source": [
    "import pandas as pd\n",
    "import numpy as np\n",
    "import datetime as dt\n",
    "import time"
   ]
  },
  {
   "cell_type": "code",
   "execution_count": 2,
   "metadata": {
    "collapsed": false
   },
   "outputs": [],
   "source": [
    "target = pd.read_csv('targets.csv')\n",
    "structure = pd.read_csv('structure.csv')\n",
    "user_activity = pd.read_csv('user_activity.csv')\n",
    "user_activity_test = pd.read_csv('user_activity_test.csv')"
   ]
  },
  {
   "cell_type": "markdown",
   "metadata": {},
   "source": [
    "## Target"
   ]
  },
  {
   "cell_type": "code",
   "execution_count": 3,
   "metadata": {
    "collapsed": false
   },
   "outputs": [
    {
     "data": {
      "text/html": [
       "<div>\n",
       "<table border=\"1\" class=\"dataframe\">\n",
       "  <thead>\n",
       "    <tr style=\"text-align: right;\">\n",
       "      <th></th>\n",
       "      <th>user_id</th>\n",
       "      <th>score</th>\n",
       "      <th>passed</th>\n",
       "    </tr>\n",
       "  </thead>\n",
       "  <tbody>\n",
       "    <tr>\n",
       "      <th>0</th>\n",
       "      <td>1</td>\n",
       "      <td>0</td>\n",
       "      <td>0</td>\n",
       "    </tr>\n",
       "    <tr>\n",
       "      <th>1</th>\n",
       "      <td>2</td>\n",
       "      <td>82</td>\n",
       "      <td>0</td>\n",
       "    </tr>\n",
       "    <tr>\n",
       "      <th>2</th>\n",
       "      <td>3</td>\n",
       "      <td>89</td>\n",
       "      <td>0</td>\n",
       "    </tr>\n",
       "    <tr>\n",
       "      <th>3</th>\n",
       "      <td>4</td>\n",
       "      <td>9</td>\n",
       "      <td>0</td>\n",
       "    </tr>\n",
       "    <tr>\n",
       "      <th>4</th>\n",
       "      <td>6</td>\n",
       "      <td>26</td>\n",
       "      <td>0</td>\n",
       "    </tr>\n",
       "  </tbody>\n",
       "</table>\n",
       "</div>"
      ],
      "text/plain": [
       "   user_id  score  passed\n",
       "0        1      0       0\n",
       "1        2     82       0\n",
       "2        3     89       0\n",
       "3        4      9       0\n",
       "4        6     26       0"
      ]
     },
     "execution_count": 3,
     "metadata": {},
     "output_type": "execute_result"
    }
   ],
   "source": [
    "try: \n",
    "    target.drop('distinction', axis = 1, inplace = True)\n",
    "except Exception: \n",
    "    pass\n",
    "\n",
    "target.head()"
   ]
  },
  {
   "cell_type": "markdown",
   "metadata": {},
   "source": [
    "## Structure of Steps"
   ]
  },
  {
   "cell_type": "code",
   "execution_count": 4,
   "metadata": {
    "collapsed": false
   },
   "outputs": [
    {
     "data": {
      "text/html": [
       "<div>\n",
       "<table border=\"1\" class=\"dataframe\">\n",
       "  <thead>\n",
       "    <tr style=\"text-align: right;\">\n",
       "      <th></th>\n",
       "      <th>step_id</th>\n",
       "      <th>step_num</th>\n",
       "      <th>step_type</th>\n",
       "      <th>step_cost</th>\n",
       "    </tr>\n",
       "  </thead>\n",
       "  <tbody>\n",
       "    <tr>\n",
       "      <th>0</th>\n",
       "      <td>7225</td>\n",
       "      <td>0</td>\n",
       "      <td>text</td>\n",
       "      <td>0</td>\n",
       "    </tr>\n",
       "    <tr>\n",
       "      <th>1</th>\n",
       "      <td>7230</td>\n",
       "      <td>1</td>\n",
       "      <td>text</td>\n",
       "      <td>0</td>\n",
       "    </tr>\n",
       "    <tr>\n",
       "      <th>2</th>\n",
       "      <td>7231</td>\n",
       "      <td>2</td>\n",
       "      <td>text</td>\n",
       "      <td>0</td>\n",
       "    </tr>\n",
       "    <tr>\n",
       "      <th>3</th>\n",
       "      <td>7232</td>\n",
       "      <td>3</td>\n",
       "      <td>text</td>\n",
       "      <td>0</td>\n",
       "    </tr>\n",
       "    <tr>\n",
       "      <th>4</th>\n",
       "      <td>43604</td>\n",
       "      <td>4</td>\n",
       "      <td>text</td>\n",
       "      <td>0</td>\n",
       "    </tr>\n",
       "  </tbody>\n",
       "</table>\n",
       "</div>"
      ],
      "text/plain": [
       "   step_id  step_num step_type  step_cost\n",
       "0     7225         0      text          0\n",
       "1     7230         1      text          0\n",
       "2     7231         2      text          0\n",
       "3     7232         3      text          0\n",
       "4    43604         4      text          0"
      ]
     },
     "execution_count": 4,
     "metadata": {},
     "output_type": "execute_result"
    }
   ],
   "source": [
    "try:\n",
    "    structure = structure.sort_values(['module_position', 'lesson_position', 'step_position'])\n",
    "    structure['step_num'] = range(0, len(structure))\n",
    "except Exception:\n",
    "    pass\n",
    "\n",
    "structure = structure[['step_id','step_num', 'step_type', 'step_cost']]\n",
    "\n",
    "structure.head()"
   ]
  },
  {
   "cell_type": "markdown",
   "metadata": {},
   "source": [
    "### Функиця до добавлению доп. колонок в \"рабочую\" таблицу"
   ]
  },
  {
   "cell_type": "code",
   "execution_count": 5,
   "metadata": {
    "collapsed": false
   },
   "outputs": [],
   "source": [
    "def add_columns(df):\n",
    "    \n",
    "    df['time_f'] = pd.to_datetime(df['time'], unit='s')\n",
    "    \n",
    "    df = pd.merge(\n",
    "    left = df,\n",
    "    right = structure[['step_id', 'step_num']], \n",
    "    how = 'left', \n",
    "    on = 'step_id')\n",
    "    \n",
    "    df = df[['user_id', 'action', 'step_num', 'step_type', 'step_cost', 'time', 'time_f']]\n",
    "    \n",
    "    return df"
   ]
  },
  {
   "cell_type": "code",
   "execution_count": 6,
   "metadata": {
    "collapsed": false
   },
   "outputs": [
    {
     "data": {
      "text/html": [
       "<div>\n",
       "<table border=\"1\" class=\"dataframe\">\n",
       "  <thead>\n",
       "    <tr style=\"text-align: right;\">\n",
       "      <th></th>\n",
       "      <th>user_id</th>\n",
       "      <th>action</th>\n",
       "      <th>step_num</th>\n",
       "      <th>step_type</th>\n",
       "      <th>step_cost</th>\n",
       "      <th>time</th>\n",
       "      <th>time_f</th>\n",
       "    </tr>\n",
       "  </thead>\n",
       "  <tbody>\n",
       "    <tr>\n",
       "      <th>0</th>\n",
       "      <td>5920</td>\n",
       "      <td>discovered</td>\n",
       "      <td>81</td>\n",
       "      <td>text</td>\n",
       "      <td>0</td>\n",
       "      <td>1403165936</td>\n",
       "      <td>2014-06-19 08:18:56</td>\n",
       "    </tr>\n",
       "    <tr>\n",
       "      <th>1</th>\n",
       "      <td>5920</td>\n",
       "      <td>passed</td>\n",
       "      <td>81</td>\n",
       "      <td>text</td>\n",
       "      <td>0</td>\n",
       "      <td>1403165936</td>\n",
       "      <td>2014-06-19 08:18:56</td>\n",
       "    </tr>\n",
       "    <tr>\n",
       "      <th>2</th>\n",
       "      <td>5920</td>\n",
       "      <td>viewed</td>\n",
       "      <td>81</td>\n",
       "      <td>text</td>\n",
       "      <td>0</td>\n",
       "      <td>1403165936</td>\n",
       "      <td>2014-06-19 08:18:56</td>\n",
       "    </tr>\n",
       "    <tr>\n",
       "      <th>3</th>\n",
       "      <td>5920</td>\n",
       "      <td>passed</td>\n",
       "      <td>93</td>\n",
       "      <td>text</td>\n",
       "      <td>0</td>\n",
       "      <td>1403165946</td>\n",
       "      <td>2014-06-19 08:19:06</td>\n",
       "    </tr>\n",
       "    <tr>\n",
       "      <th>4</th>\n",
       "      <td>5920</td>\n",
       "      <td>viewed</td>\n",
       "      <td>93</td>\n",
       "      <td>text</td>\n",
       "      <td>0</td>\n",
       "      <td>1403165946</td>\n",
       "      <td>2014-06-19 08:19:06</td>\n",
       "    </tr>\n",
       "  </tbody>\n",
       "</table>\n",
       "</div>"
      ],
      "text/plain": [
       "   user_id      action  step_num step_type  step_cost        time  \\\n",
       "0     5920  discovered        81      text          0  1403165936   \n",
       "1     5920      passed        81      text          0  1403165936   \n",
       "2     5920      viewed        81      text          0  1403165936   \n",
       "3     5920      passed        93      text          0  1403165946   \n",
       "4     5920      viewed        93      text          0  1403165946   \n",
       "\n",
       "               time_f  \n",
       "0 2014-06-19 08:18:56  \n",
       "1 2014-06-19 08:18:56  \n",
       "2 2014-06-19 08:18:56  \n",
       "3 2014-06-19 08:19:06  \n",
       "4 2014-06-19 08:19:06  "
      ]
     },
     "execution_count": 6,
     "metadata": {},
     "output_type": "execute_result"
    }
   ],
   "source": [
    "try:\n",
    "    user_activity = add_columns(user_activity)\n",
    "except Exception:\n",
    "    pass\n",
    "user_activity.head()"
   ]
  },
  {
   "cell_type": "markdown",
   "metadata": {},
   "source": [
    "### Функция подсчёта баллов за пройденные степы по юзерам, а также кол-во пройденных степов"
   ]
  },
  {
   "cell_type": "code",
   "execution_count": 7,
   "metadata": {
    "collapsed": false
   },
   "outputs": [],
   "source": [
    "def user_score(df):\n",
    "    \n",
    "    users = pd.DataFrame(df['user_id'].unique(), columns=['user_id'])\n",
    "    df = df[df['action'] == 'passed']\n",
    "    \n",
    "    df['step_cost_cat'] = df['step_cost'].astype('str')\n",
    "    pivot = pd.pivot_table(df,index=[\"user_id\"],values=[\"step_cost\"], columns = 'step_cost_cat', aggfunc='sum')\n",
    "    pivot.reset_index(level=0, inplace=True)\n",
    "    \n",
    "    columns_names = [\"cost_\"+str(i) for i in sorted(df[\"step_cost\"].unique().tolist())]\n",
    "    pivot.columns = ['user_id'] + columns_names\n",
    "    \n",
    "    pivot.fillna(0, inplace = True)\n",
    "    \n",
    "    pivot['sum_of_step_cost'] = pivot['cost_1'] + pivot['cost_2'] + pivot['cost_3'] + pivot['cost_4']\n",
    "    pivot['count_of_steps_passed'] = pivot['cost_1'] + pivot['cost_2']/2 + pivot['cost_3']/3 + pivot['cost_4']/4\n",
    "    pivot.drop('cost_0', axis=1, inplace = True)\n",
    "    pivot = pd.merge(left = pivot, right = users, how = 'outer', on = 'user_id')\n",
    "    pivot.fillna(0, inplace = True)\n",
    "    \n",
    "    return pivot"
   ]
  },
  {
   "cell_type": "code",
   "execution_count": 8,
   "metadata": {
    "collapsed": false
   },
   "outputs": [
    {
     "name": "stderr",
     "output_type": "stream",
     "text": [
      "C:\\Users\\Adamo\\Anaconda3\\lib\\site-packages\\ipykernel\\__main__.py:6: SettingWithCopyWarning: \n",
      "A value is trying to be set on a copy of a slice from a DataFrame.\n",
      "Try using .loc[row_indexer,col_indexer] = value instead\n",
      "\n",
      "See the caveats in the documentation: http://pandas.pydata.org/pandas-docs/stable/indexing.html#indexing-view-versus-copy\n"
     ]
    },
    {
     "data": {
      "text/html": [
       "<div>\n",
       "<table border=\"1\" class=\"dataframe\">\n",
       "  <thead>\n",
       "    <tr style=\"text-align: right;\">\n",
       "      <th></th>\n",
       "      <th>user_id</th>\n",
       "      <th>cost_1</th>\n",
       "      <th>cost_2</th>\n",
       "      <th>cost_3</th>\n",
       "      <th>cost_4</th>\n",
       "      <th>sum_of_step_cost</th>\n",
       "      <th>count_of_steps_passed</th>\n",
       "    </tr>\n",
       "  </thead>\n",
       "  <tbody>\n",
       "    <tr>\n",
       "      <th>0</th>\n",
       "      <td>1.0</td>\n",
       "      <td>0.0</td>\n",
       "      <td>0.0</td>\n",
       "      <td>0.0</td>\n",
       "      <td>0.0</td>\n",
       "      <td>0.0</td>\n",
       "      <td>0.0</td>\n",
       "    </tr>\n",
       "    <tr>\n",
       "      <th>1</th>\n",
       "      <td>2.0</td>\n",
       "      <td>0.0</td>\n",
       "      <td>0.0</td>\n",
       "      <td>0.0</td>\n",
       "      <td>0.0</td>\n",
       "      <td>0.0</td>\n",
       "      <td>0.0</td>\n",
       "    </tr>\n",
       "    <tr>\n",
       "      <th>2</th>\n",
       "      <td>3.0</td>\n",
       "      <td>9.0</td>\n",
       "      <td>0.0</td>\n",
       "      <td>0.0</td>\n",
       "      <td>0.0</td>\n",
       "      <td>9.0</td>\n",
       "      <td>9.0</td>\n",
       "    </tr>\n",
       "    <tr>\n",
       "      <th>3</th>\n",
       "      <td>4.0</td>\n",
       "      <td>9.0</td>\n",
       "      <td>0.0</td>\n",
       "      <td>0.0</td>\n",
       "      <td>0.0</td>\n",
       "      <td>9.0</td>\n",
       "      <td>9.0</td>\n",
       "    </tr>\n",
       "    <tr>\n",
       "      <th>4</th>\n",
       "      <td>6.0</td>\n",
       "      <td>14.0</td>\n",
       "      <td>12.0</td>\n",
       "      <td>0.0</td>\n",
       "      <td>0.0</td>\n",
       "      <td>26.0</td>\n",
       "      <td>20.0</td>\n",
       "    </tr>\n",
       "  </tbody>\n",
       "</table>\n",
       "</div>"
      ],
      "text/plain": [
       "   user_id  cost_1  cost_2  cost_3  cost_4  sum_of_step_cost  \\\n",
       "0      1.0     0.0     0.0     0.0     0.0               0.0   \n",
       "1      2.0     0.0     0.0     0.0     0.0               0.0   \n",
       "2      3.0     9.0     0.0     0.0     0.0               9.0   \n",
       "3      4.0     9.0     0.0     0.0     0.0               9.0   \n",
       "4      6.0    14.0    12.0     0.0     0.0              26.0   \n",
       "\n",
       "   count_of_steps_passed  \n",
       "0                    0.0  \n",
       "1                    0.0  \n",
       "2                    9.0  \n",
       "3                    9.0  \n",
       "4                   20.0  "
      ]
     },
     "execution_count": 8,
     "metadata": {},
     "output_type": "execute_result"
    }
   ],
   "source": [
    "user_score(user_activity).head()"
   ]
  },
  {
   "cell_type": "markdown",
   "metadata": {},
   "source": [
    "### Функция подсчёта количества просмотренны, но непройденных степов, а также сумма \"упущенных\" баллов, за просмотренные, но не сделанные степы."
   ]
  },
  {
   "cell_type": "code",
   "execution_count": 9,
   "metadata": {
    "collapsed": false
   },
   "outputs": [],
   "source": [
    "def missed_steps_and_score(df):\n",
    "    #df_filter = (df['action'] == 'passed') & (df['step_cost'] != 0)\n",
    "    df_filter = (df['action'] == 'passed')\n",
    "    pivot1 = pd.DataFrame(df[df_filter].groupby(['user_id', 'step_num'], as_index = False)['step_cost'].mean())\n",
    "    \n",
    "    #df_filter = (df['action'] != 'passed') & (df['step_cost'] != 0)\n",
    "    df_filter = (df['action'] != 'passed')\n",
    "    pivot2 = pd.DataFrame(df[df_filter].groupby(['user_id', 'step_num'], as_index = False)['step_cost'].mean())\n",
    "    \n",
    "    pivot = pd.merge(\n",
    "        left = pivot1,\n",
    "        right = pivot2,\n",
    "        how = 'outer',\n",
    "        on = ['user_id', 'step_num'])\n",
    "    \n",
    "    pivot.fillna(0, inplace = True)\n",
    "    \n",
    "    pivot['missing_step_cost'] = (pivot['step_cost_y'] - pivot['step_cost_x'])\n",
    "    pivot = pivot[pivot['missing_step_cost'] != 0]\n",
    "    pivot = pd.DataFrame(pivot.groupby(['user_id'], as_index = False)['missing_step_cost'].agg(['sum', 'count']))\n",
    "    pivot.reset_index(drop = False, inplace = True)\n",
    "    pivot.columns = ['user_id', 'missed_score', 'missed_steps_N']        \n",
    "    \n",
    "    return pivot    "
   ]
  },
  {
   "cell_type": "code",
   "execution_count": 10,
   "metadata": {
    "collapsed": false
   },
   "outputs": [
    {
     "data": {
      "text/html": [
       "<div>\n",
       "<table border=\"1\" class=\"dataframe\">\n",
       "  <thead>\n",
       "    <tr style=\"text-align: right;\">\n",
       "      <th></th>\n",
       "      <th>user_id</th>\n",
       "      <th>missed_score</th>\n",
       "      <th>missed_steps_N</th>\n",
       "    </tr>\n",
       "  </thead>\n",
       "  <tbody>\n",
       "    <tr>\n",
       "      <th>0</th>\n",
       "      <td>1.0</td>\n",
       "      <td>109.0</td>\n",
       "      <td>68</td>\n",
       "    </tr>\n",
       "    <tr>\n",
       "      <th>1</th>\n",
       "      <td>7.0</td>\n",
       "      <td>16.0</td>\n",
       "      <td>8</td>\n",
       "    </tr>\n",
       "    <tr>\n",
       "      <th>2</th>\n",
       "      <td>12.0</td>\n",
       "      <td>1.0</td>\n",
       "      <td>1</td>\n",
       "    </tr>\n",
       "    <tr>\n",
       "      <th>3</th>\n",
       "      <td>14.0</td>\n",
       "      <td>2.0</td>\n",
       "      <td>1</td>\n",
       "    </tr>\n",
       "    <tr>\n",
       "      <th>4</th>\n",
       "      <td>15.0</td>\n",
       "      <td>2.0</td>\n",
       "      <td>1</td>\n",
       "    </tr>\n",
       "  </tbody>\n",
       "</table>\n",
       "</div>"
      ],
      "text/plain": [
       "   user_id  missed_score  missed_steps_N\n",
       "0      1.0         109.0              68\n",
       "1      7.0          16.0               8\n",
       "2     12.0           1.0               1\n",
       "3     14.0           2.0               1\n",
       "4     15.0           2.0               1"
      ]
     },
     "execution_count": 10,
     "metadata": {},
     "output_type": "execute_result"
    }
   ],
   "source": [
    "missed_steps_and_score(user_activity).head()"
   ]
  },
  {
   "cell_type": "markdown",
   "metadata": {},
   "source": [
    "### Функция рассчёта темпа прохождения степов пользователем (используется на первых 50 степах)"
   ]
  },
  {
   "cell_type": "code",
   "execution_count": 11,
   "metadata": {
    "collapsed": false
   },
   "outputs": [],
   "source": [
    "def user_passing_rate(df):\n",
    "    \n",
    "    # найдем для каждого пользователя и проеденного степа время прохождения и время первой попытки решить степ.\n",
    "    # добавим его в 'passing_time'\n",
    "    \n",
    "    df = df[df['step_num'] < 50]\n",
    "    time_passed = df[(df['action'] == 'passed') & (df['step_cost'] != 0)].groupby(['user_id', 'step_num'], as_index=False)['time'].max()\n",
    "    time_started_attempt = df[(df['action'] == 'started_attempt') & (df['step_cost'] != 0)].groupby(['user_id', 'step_num'], as_index=False)['time'].min()\n",
    "\n",
    "    df = pd.merge(\n",
    "        left = time_passed,\n",
    "        right = time_started_attempt, \n",
    "        how = 'left', \n",
    "        on = ['user_id', 'step_num'])\n",
    "    \n",
    "    df.columns = ['user_id', 'step_num', 'time_pass', 'time_start']\n",
    "    df['passing_time'] =  df['time_pass'] - df['time_start']\n",
    "    \n",
    "    # найдём минимальное и максимальное время прохождение стэпа\n",
    "    \n",
    "    min_step_passing_time = df.groupby(['step_num'], as_index=False)['passing_time'].min()\n",
    "    max_step_passing_time = df.groupby(['step_num'], as_index=False)['passing_time'].max()\n",
    "    max_time = 30 * 60\n",
    "    max_step_passing_time[max_step_passing_time['passing_time'] > max_time]['passing_time'] = max_time\n",
    "    \n",
    "    df = pd.merge(\n",
    "        left = df,\n",
    "        right = min_step_passing_time, \n",
    "        how = 'left', \n",
    "        on = ['step_num'])\n",
    "    \n",
    "    df = pd.merge(\n",
    "        left = df,\n",
    "        right = max_step_passing_time, \n",
    "        how = 'left', \n",
    "        on = ['step_num'])\n",
    "    \n",
    "    df.columns = ['user_id', 'step_num', 'time_pass', 'time_start', 'passing_time', 'min_passing_time', 'max_passing_time']\n",
    "    \n",
    "    # пролагарифмируем затраченное на прохождение время\n",
    "    \n",
    "    df['passing_time'] = np.log(df['passing_time'])\n",
    "    df['min_passing_time'] = np.log(df['min_passing_time'])\n",
    "    df['max_passing_time'] = np.log(df['max_passing_time'])\n",
    "    \n",
    "    # нормализуем затраченное на прохождение степа время\n",
    "    \n",
    "    df['norm_passing_time_rate'] = (df['passing_time'] - df['min_passing_time']) / (df['max_passing_time'] - df['min_passing_time'])\n",
    "    \n",
    "    # посчитаем как быстро в среднем пользователь проходил степы\n",
    "    \n",
    "    mean_user_passing_rate = df.groupby(['user_id'], as_index=False)['norm_passing_time_rate'].mean()\n",
    "    \n",
    "    return mean_user_passing_rate"
   ]
  },
  {
   "cell_type": "code",
   "execution_count": 12,
   "metadata": {
    "collapsed": false
   },
   "outputs": [
    {
     "data": {
      "text/html": [
       "<div>\n",
       "<table border=\"1\" class=\"dataframe\">\n",
       "  <thead>\n",
       "    <tr style=\"text-align: right;\">\n",
       "      <th></th>\n",
       "      <th>user_id</th>\n",
       "      <th>norm_passing_time_rate</th>\n",
       "    </tr>\n",
       "  </thead>\n",
       "  <tbody>\n",
       "    <tr>\n",
       "      <th>0</th>\n",
       "      <td>3</td>\n",
       "      <td>0.251854</td>\n",
       "    </tr>\n",
       "    <tr>\n",
       "      <th>1</th>\n",
       "      <td>4</td>\n",
       "      <td>0.295214</td>\n",
       "    </tr>\n",
       "    <tr>\n",
       "      <th>2</th>\n",
       "      <td>6</td>\n",
       "      <td>0.178440</td>\n",
       "    </tr>\n",
       "    <tr>\n",
       "      <th>3</th>\n",
       "      <td>7</td>\n",
       "      <td>0.278024</td>\n",
       "    </tr>\n",
       "    <tr>\n",
       "      <th>4</th>\n",
       "      <td>8</td>\n",
       "      <td>0.201956</td>\n",
       "    </tr>\n",
       "  </tbody>\n",
       "</table>\n",
       "</div>"
      ],
      "text/plain": [
       "   user_id  norm_passing_time_rate\n",
       "0        3                0.251854\n",
       "1        4                0.295214\n",
       "2        6                0.178440\n",
       "3        7                0.278024\n",
       "4        8                0.201956"
      ]
     },
     "execution_count": 12,
     "metadata": {},
     "output_type": "execute_result"
    }
   ],
   "source": [
    "user_passing_rate(user_activity).head()"
   ]
  },
  {
   "cell_type": "markdown",
   "metadata": {},
   "source": [
    "### Функция подсчёта активного периода у пользователя, а также количества активных дней"
   ]
  },
  {
   "cell_type": "code",
   "execution_count": 13,
   "metadata": {
    "collapsed": false
   },
   "outputs": [],
   "source": [
    "def user_daily_activity(df):\n",
    "    \n",
    "    # количество уникальных дней-занятий\n",
    "    one_day = 24 * 60 * 60\n",
    "    df['days'] = (df['time'] / one_day).astype(int)\n",
    "    number_of_days = pd.DataFrame(df.groupby('user_id')['days'].nunique())\n",
    "    \n",
    "    # период активности, в днях\n",
    "    user_first_last_day = df.groupby(['user_id'])['days'].agg([np.max, np.min])\n",
    "    user_first_last_day['dayly_period'] = user_first_last_day.iloc[:, 0] - user_first_last_day.iloc[:, 1] + 1\n",
    "    \n",
    "    user_dayly_activity = pd.merge(\n",
    "        left = user_first_last_day,\n",
    "        right = number_of_days, \n",
    "        how = 'left',\n",
    "        left_index = True,\n",
    "        right_index = True)\n",
    "    \n",
    "    user_dayly_activity = user_dayly_activity[['dayly_period', 'days']]\n",
    "    user_dayly_activity.columns = ['dayly_period', 'N_of_un_days']\n",
    "    user_dayly_activity.reset_index(level=0, inplace=True)\n",
    "    user_dayly_activity['regularity'] = user_dayly_activity['N_of_un_days'] / user_dayly_activity['dayly_period']\n",
    "    \n",
    "    return user_dayly_activity"
   ]
  },
  {
   "cell_type": "code",
   "execution_count": 14,
   "metadata": {
    "collapsed": false
   },
   "outputs": [
    {
     "data": {
      "text/html": [
       "<div>\n",
       "<table border=\"1\" class=\"dataframe\">\n",
       "  <thead>\n",
       "    <tr style=\"text-align: right;\">\n",
       "      <th></th>\n",
       "      <th>user_id</th>\n",
       "      <th>dayly_period</th>\n",
       "      <th>N_of_un_days</th>\n",
       "      <th>regularity</th>\n",
       "    </tr>\n",
       "  </thead>\n",
       "  <tbody>\n",
       "    <tr>\n",
       "      <th>0</th>\n",
       "      <td>1</td>\n",
       "      <td>7</td>\n",
       "      <td>7</td>\n",
       "      <td>1.00</td>\n",
       "    </tr>\n",
       "    <tr>\n",
       "      <th>1</th>\n",
       "      <td>2</td>\n",
       "      <td>1</td>\n",
       "      <td>1</td>\n",
       "      <td>1.00</td>\n",
       "    </tr>\n",
       "    <tr>\n",
       "      <th>2</th>\n",
       "      <td>3</td>\n",
       "      <td>6</td>\n",
       "      <td>3</td>\n",
       "      <td>0.50</td>\n",
       "    </tr>\n",
       "    <tr>\n",
       "      <th>3</th>\n",
       "      <td>4</td>\n",
       "      <td>6</td>\n",
       "      <td>6</td>\n",
       "      <td>1.00</td>\n",
       "    </tr>\n",
       "    <tr>\n",
       "      <th>4</th>\n",
       "      <td>6</td>\n",
       "      <td>4</td>\n",
       "      <td>3</td>\n",
       "      <td>0.75</td>\n",
       "    </tr>\n",
       "  </tbody>\n",
       "</table>\n",
       "</div>"
      ],
      "text/plain": [
       "   user_id  dayly_period  N_of_un_days  regularity\n",
       "0        1             7             7        1.00\n",
       "1        2             1             1        1.00\n",
       "2        3             6             3        0.50\n",
       "3        4             6             6        1.00\n",
       "4        6             4             3        0.75"
      ]
     },
     "execution_count": 14,
     "metadata": {},
     "output_type": "execute_result"
    }
   ],
   "source": [
    "user_daily_activity(user_activity).head()"
   ]
  },
  {
   "cell_type": "markdown",
   "metadata": {},
   "source": [
    "### Обработка данных с \"user_activity\""
   ]
  },
  {
   "cell_type": "code",
   "execution_count": 15,
   "metadata": {
    "collapsed": false
   },
   "outputs": [],
   "source": [
    "def process_table(df):\n",
    "    \n",
    "    try:\n",
    "        df = add_columns(df)\n",
    "    except Exception:\n",
    "        pass\n",
    "\n",
    "    all_fun = [user_score, missed_steps_and_score, user_passing_rate, user_daily_activity]\n",
    "    \n",
    "    new_df = pd.DataFrame({'user_id' : []})\n",
    "    \n",
    "    for i in all_fun:\n",
    "        new_df = pd.merge(\n",
    "            left = new_df,\n",
    "            right = i(df), \n",
    "            how = 'outer',\n",
    "            on = 'user_id')\n",
    "        \n",
    "    new_df['norm_passing_time_rate'].fillna(1, inplace=True)\n",
    "    new_df['missed_score'].fillna(0, inplace=True)\n",
    "    new_df['missed_steps_N'].fillna(0, inplace=True)\n",
    "    \n",
    "    new_df['score_without_missed_score'] = new_df['sum_of_step_cost'] - new_df['missed_score']\n",
    "    \n",
    "    new_df = new_df[['user_id', 'cost_1', 'cost_2', 'cost_3', 'cost_4', 'sum_of_step_cost', 'missed_score', 'score_without_missed_score', \n",
    "          'count_of_steps_passed', 'missed_steps_N', 'norm_passing_time_rate', \n",
    "           'dayly_period', 'N_of_un_days', 'regularity']]\n",
    "\n",
    "    return new_df\n"
   ]
  },
  {
   "cell_type": "code",
   "execution_count": 16,
   "metadata": {
    "collapsed": false
   },
   "outputs": [
    {
     "name": "stderr",
     "output_type": "stream",
     "text": [
      "C:\\Users\\Adamo\\Anaconda3\\lib\\site-packages\\ipykernel\\__main__.py:6: SettingWithCopyWarning: \n",
      "A value is trying to be set on a copy of a slice from a DataFrame.\n",
      "Try using .loc[row_indexer,col_indexer] = value instead\n",
      "\n",
      "See the caveats in the documentation: http://pandas.pydata.org/pandas-docs/stable/indexing.html#indexing-view-versus-copy\n"
     ]
    },
    {
     "data": {
      "text/html": [
       "<div>\n",
       "<table border=\"1\" class=\"dataframe\">\n",
       "  <thead>\n",
       "    <tr style=\"text-align: right;\">\n",
       "      <th></th>\n",
       "      <th>user_id</th>\n",
       "      <th>cost_1</th>\n",
       "      <th>cost_2</th>\n",
       "      <th>cost_3</th>\n",
       "      <th>cost_4</th>\n",
       "      <th>sum_of_step_cost</th>\n",
       "      <th>missed_score</th>\n",
       "      <th>score_without_missed_score</th>\n",
       "      <th>count_of_steps_passed</th>\n",
       "      <th>missed_steps_N</th>\n",
       "      <th>norm_passing_time_rate</th>\n",
       "      <th>dayly_period</th>\n",
       "      <th>N_of_un_days</th>\n",
       "      <th>regularity</th>\n",
       "    </tr>\n",
       "  </thead>\n",
       "  <tbody>\n",
       "    <tr>\n",
       "      <th>0</th>\n",
       "      <td>1.0</td>\n",
       "      <td>0.0</td>\n",
       "      <td>0.0</td>\n",
       "      <td>0.0</td>\n",
       "      <td>0.0</td>\n",
       "      <td>0.0</td>\n",
       "      <td>109.0</td>\n",
       "      <td>-109.0</td>\n",
       "      <td>0.0</td>\n",
       "      <td>68.0</td>\n",
       "      <td>1.000000</td>\n",
       "      <td>7</td>\n",
       "      <td>7</td>\n",
       "      <td>1.00</td>\n",
       "    </tr>\n",
       "    <tr>\n",
       "      <th>1</th>\n",
       "      <td>2.0</td>\n",
       "      <td>0.0</td>\n",
       "      <td>0.0</td>\n",
       "      <td>0.0</td>\n",
       "      <td>0.0</td>\n",
       "      <td>0.0</td>\n",
       "      <td>0.0</td>\n",
       "      <td>0.0</td>\n",
       "      <td>0.0</td>\n",
       "      <td>0.0</td>\n",
       "      <td>1.000000</td>\n",
       "      <td>1</td>\n",
       "      <td>1</td>\n",
       "      <td>1.00</td>\n",
       "    </tr>\n",
       "    <tr>\n",
       "      <th>2</th>\n",
       "      <td>3.0</td>\n",
       "      <td>9.0</td>\n",
       "      <td>0.0</td>\n",
       "      <td>0.0</td>\n",
       "      <td>0.0</td>\n",
       "      <td>9.0</td>\n",
       "      <td>0.0</td>\n",
       "      <td>9.0</td>\n",
       "      <td>9.0</td>\n",
       "      <td>0.0</td>\n",
       "      <td>0.251854</td>\n",
       "      <td>6</td>\n",
       "      <td>3</td>\n",
       "      <td>0.50</td>\n",
       "    </tr>\n",
       "    <tr>\n",
       "      <th>3</th>\n",
       "      <td>4.0</td>\n",
       "      <td>9.0</td>\n",
       "      <td>0.0</td>\n",
       "      <td>0.0</td>\n",
       "      <td>0.0</td>\n",
       "      <td>9.0</td>\n",
       "      <td>0.0</td>\n",
       "      <td>9.0</td>\n",
       "      <td>9.0</td>\n",
       "      <td>0.0</td>\n",
       "      <td>0.295214</td>\n",
       "      <td>6</td>\n",
       "      <td>6</td>\n",
       "      <td>1.00</td>\n",
       "    </tr>\n",
       "    <tr>\n",
       "      <th>4</th>\n",
       "      <td>6.0</td>\n",
       "      <td>14.0</td>\n",
       "      <td>12.0</td>\n",
       "      <td>0.0</td>\n",
       "      <td>0.0</td>\n",
       "      <td>26.0</td>\n",
       "      <td>0.0</td>\n",
       "      <td>26.0</td>\n",
       "      <td>20.0</td>\n",
       "      <td>0.0</td>\n",
       "      <td>0.178440</td>\n",
       "      <td>4</td>\n",
       "      <td>3</td>\n",
       "      <td>0.75</td>\n",
       "    </tr>\n",
       "  </tbody>\n",
       "</table>\n",
       "</div>"
      ],
      "text/plain": [
       "   user_id  cost_1  cost_2  cost_3  cost_4  sum_of_step_cost  missed_score  \\\n",
       "0      1.0     0.0     0.0     0.0     0.0               0.0         109.0   \n",
       "1      2.0     0.0     0.0     0.0     0.0               0.0           0.0   \n",
       "2      3.0     9.0     0.0     0.0     0.0               9.0           0.0   \n",
       "3      4.0     9.0     0.0     0.0     0.0               9.0           0.0   \n",
       "4      6.0    14.0    12.0     0.0     0.0              26.0           0.0   \n",
       "\n",
       "   score_without_missed_score  count_of_steps_passed  missed_steps_N  \\\n",
       "0                      -109.0                    0.0            68.0   \n",
       "1                         0.0                    0.0             0.0   \n",
       "2                         9.0                    9.0             0.0   \n",
       "3                         9.0                    9.0             0.0   \n",
       "4                        26.0                   20.0             0.0   \n",
       "\n",
       "   norm_passing_time_rate  dayly_period  N_of_un_days  regularity  \n",
       "0                1.000000             7             7        1.00  \n",
       "1                1.000000             1             1        1.00  \n",
       "2                0.251854             6             3        0.50  \n",
       "3                0.295214             6             6        1.00  \n",
       "4                0.178440             4             3        0.75  "
      ]
     },
     "execution_count": 16,
     "metadata": {},
     "output_type": "execute_result"
    }
   ],
   "source": [
    "process_table(user_activity).head()"
   ]
  },
  {
   "cell_type": "code",
   "execution_count": 17,
   "metadata": {
    "collapsed": false
   },
   "outputs": [
    {
     "name": "stderr",
     "output_type": "stream",
     "text": [
      "C:\\Users\\Adamo\\Anaconda3\\lib\\site-packages\\ipykernel\\__main__.py:6: SettingWithCopyWarning: \n",
      "A value is trying to be set on a copy of a slice from a DataFrame.\n",
      "Try using .loc[row_indexer,col_indexer] = value instead\n",
      "\n",
      "See the caveats in the documentation: http://pandas.pydata.org/pandas-docs/stable/indexing.html#indexing-view-versus-copy\n"
     ]
    },
    {
     "name": "stdout",
     "output_type": "stream",
     "text": [
      "<class 'pandas.core.frame.DataFrame'>\n",
      "Int64Index: 16625 entries, 0 to 16624\n",
      "Data columns (total 14 columns):\n",
      "user_id                       16625 non-null float64\n",
      "cost_1                        16625 non-null float64\n",
      "cost_2                        16625 non-null float64\n",
      "cost_3                        16625 non-null float64\n",
      "cost_4                        16625 non-null float64\n",
      "sum_of_step_cost              16625 non-null float64\n",
      "missed_score                  16625 non-null float64\n",
      "score_without_missed_score    16625 non-null float64\n",
      "count_of_steps_passed         16625 non-null float64\n",
      "missed_steps_N                16625 non-null float64\n",
      "norm_passing_time_rate        16625 non-null float64\n",
      "dayly_period                  16625 non-null int32\n",
      "N_of_un_days                  16625 non-null int64\n",
      "regularity                    16625 non-null float64\n",
      "dtypes: float64(12), int32(1), int64(1)\n",
      "memory usage: 1.8 MB\n"
     ]
    }
   ],
   "source": [
    "process_table(user_activity).info()"
   ]
  },
  {
   "cell_type": "markdown",
   "metadata": {},
   "source": [
    "### Построение модели (линейной регрессии)"
   ]
  },
  {
   "cell_type": "code",
   "execution_count": 18,
   "metadata": {
    "collapsed": false
   },
   "outputs": [
    {
     "name": "stderr",
     "output_type": "stream",
     "text": [
      "C:\\Users\\Adamo\\Anaconda3\\lib\\site-packages\\ipykernel\\__main__.py:6: SettingWithCopyWarning: \n",
      "A value is trying to be set on a copy of a slice from a DataFrame.\n",
      "Try using .loc[row_indexer,col_indexer] = value instead\n",
      "\n",
      "See the caveats in the documentation: http://pandas.pydata.org/pandas-docs/stable/indexing.html#indexing-view-versus-copy\n"
     ]
    },
    {
     "data": {
      "text/html": [
       "<div>\n",
       "<table border=\"1\" class=\"dataframe\">\n",
       "  <thead>\n",
       "    <tr style=\"text-align: right;\">\n",
       "      <th></th>\n",
       "      <th>user_id</th>\n",
       "      <th>cost_1</th>\n",
       "      <th>cost_2</th>\n",
       "      <th>cost_3</th>\n",
       "      <th>cost_4</th>\n",
       "      <th>sum_of_step_cost</th>\n",
       "      <th>missed_score</th>\n",
       "      <th>score_without_missed_score</th>\n",
       "      <th>count_of_steps_passed</th>\n",
       "      <th>missed_steps_N</th>\n",
       "      <th>norm_passing_time_rate</th>\n",
       "      <th>dayly_period</th>\n",
       "      <th>N_of_un_days</th>\n",
       "      <th>regularity</th>\n",
       "      <th>score</th>\n",
       "      <th>passed</th>\n",
       "    </tr>\n",
       "  </thead>\n",
       "  <tbody>\n",
       "    <tr>\n",
       "      <th>0</th>\n",
       "      <td>1.0</td>\n",
       "      <td>0.0</td>\n",
       "      <td>0.0</td>\n",
       "      <td>0.0</td>\n",
       "      <td>0.0</td>\n",
       "      <td>0.0</td>\n",
       "      <td>109.0</td>\n",
       "      <td>-109.0</td>\n",
       "      <td>0.0</td>\n",
       "      <td>68.0</td>\n",
       "      <td>1.000000</td>\n",
       "      <td>7</td>\n",
       "      <td>7</td>\n",
       "      <td>1.00</td>\n",
       "      <td>0</td>\n",
       "      <td>0</td>\n",
       "    </tr>\n",
       "    <tr>\n",
       "      <th>1</th>\n",
       "      <td>2.0</td>\n",
       "      <td>0.0</td>\n",
       "      <td>0.0</td>\n",
       "      <td>0.0</td>\n",
       "      <td>0.0</td>\n",
       "      <td>0.0</td>\n",
       "      <td>0.0</td>\n",
       "      <td>0.0</td>\n",
       "      <td>0.0</td>\n",
       "      <td>0.0</td>\n",
       "      <td>1.000000</td>\n",
       "      <td>1</td>\n",
       "      <td>1</td>\n",
       "      <td>1.00</td>\n",
       "      <td>82</td>\n",
       "      <td>0</td>\n",
       "    </tr>\n",
       "    <tr>\n",
       "      <th>2</th>\n",
       "      <td>3.0</td>\n",
       "      <td>9.0</td>\n",
       "      <td>0.0</td>\n",
       "      <td>0.0</td>\n",
       "      <td>0.0</td>\n",
       "      <td>9.0</td>\n",
       "      <td>0.0</td>\n",
       "      <td>9.0</td>\n",
       "      <td>9.0</td>\n",
       "      <td>0.0</td>\n",
       "      <td>0.251854</td>\n",
       "      <td>6</td>\n",
       "      <td>3</td>\n",
       "      <td>0.50</td>\n",
       "      <td>89</td>\n",
       "      <td>0</td>\n",
       "    </tr>\n",
       "    <tr>\n",
       "      <th>3</th>\n",
       "      <td>4.0</td>\n",
       "      <td>9.0</td>\n",
       "      <td>0.0</td>\n",
       "      <td>0.0</td>\n",
       "      <td>0.0</td>\n",
       "      <td>9.0</td>\n",
       "      <td>0.0</td>\n",
       "      <td>9.0</td>\n",
       "      <td>9.0</td>\n",
       "      <td>0.0</td>\n",
       "      <td>0.295214</td>\n",
       "      <td>6</td>\n",
       "      <td>6</td>\n",
       "      <td>1.00</td>\n",
       "      <td>9</td>\n",
       "      <td>0</td>\n",
       "    </tr>\n",
       "    <tr>\n",
       "      <th>4</th>\n",
       "      <td>6.0</td>\n",
       "      <td>14.0</td>\n",
       "      <td>12.0</td>\n",
       "      <td>0.0</td>\n",
       "      <td>0.0</td>\n",
       "      <td>26.0</td>\n",
       "      <td>0.0</td>\n",
       "      <td>26.0</td>\n",
       "      <td>20.0</td>\n",
       "      <td>0.0</td>\n",
       "      <td>0.178440</td>\n",
       "      <td>4</td>\n",
       "      <td>3</td>\n",
       "      <td>0.75</td>\n",
       "      <td>26</td>\n",
       "      <td>0</td>\n",
       "    </tr>\n",
       "  </tbody>\n",
       "</table>\n",
       "</div>"
      ],
      "text/plain": [
       "   user_id  cost_1  cost_2  cost_3  cost_4  sum_of_step_cost  missed_score  \\\n",
       "0      1.0     0.0     0.0     0.0     0.0               0.0         109.0   \n",
       "1      2.0     0.0     0.0     0.0     0.0               0.0           0.0   \n",
       "2      3.0     9.0     0.0     0.0     0.0               9.0           0.0   \n",
       "3      4.0     9.0     0.0     0.0     0.0               9.0           0.0   \n",
       "4      6.0    14.0    12.0     0.0     0.0              26.0           0.0   \n",
       "\n",
       "   score_without_missed_score  count_of_steps_passed  missed_steps_N  \\\n",
       "0                      -109.0                    0.0            68.0   \n",
       "1                         0.0                    0.0             0.0   \n",
       "2                         9.0                    9.0             0.0   \n",
       "3                         9.0                    9.0             0.0   \n",
       "4                        26.0                   20.0             0.0   \n",
       "\n",
       "   norm_passing_time_rate  dayly_period  N_of_un_days  regularity  score  \\\n",
       "0                1.000000             7             7        1.00      0   \n",
       "1                1.000000             1             1        1.00     82   \n",
       "2                0.251854             6             3        0.50     89   \n",
       "3                0.295214             6             6        1.00      9   \n",
       "4                0.178440             4             3        0.75     26   \n",
       "\n",
       "   passed  \n",
       "0       0  \n",
       "1       0  \n",
       "2       0  \n",
       "3       0  \n",
       "4       0  "
      ]
     },
     "execution_count": 18,
     "metadata": {},
     "output_type": "execute_result"
    }
   ],
   "source": [
    "train = process_table(user_activity)\n",
    "train = pd.merge(\n",
    "    left = train,\n",
    "    right = target, \n",
    "    how = 'left', \n",
    "    on = 'user_id')\n",
    "train.head()"
   ]
  },
  {
   "cell_type": "markdown",
   "metadata": {},
   "source": [
    "#### Увеличим размер трэйна для того, чтобы уровнять кол-во \"0\" и \"1\" в \"passed\""
   ]
  },
  {
   "cell_type": "code",
   "execution_count": 19,
   "metadata": {
    "collapsed": true
   },
   "outputs": [],
   "source": [
    "train_fit = train\n",
    "for i in range(0, 24):\n",
    "    train_fit = train_fit.append(train[train['passed'] == 1])\n",
    "    i += 1"
   ]
  },
  {
   "cell_type": "code",
   "execution_count": 36,
   "metadata": {
    "collapsed": true
   },
   "outputs": [],
   "source": [
    "from sklearn.linear_model import LinearRegression\n",
    "from sklearn.metrics import f1_score\n",
    "from sklearn.metrics import recall_score\n",
    "from sklearn.metrics import accuracy_score\n",
    "\n",
    "# модель с лучшими оценками, но которая не были опробована на кэгле\n",
    "# features = ['count_of_steps_passed', 'missed_steps_N', 'norm_passing_time_rate', 'dayly_period']\n",
    "\n",
    "# модель со всеми факторами, которая была опробована на кэгле\n",
    "features = ['sum_of_step_cost', 'missed_score', 'score_without_missed_score','count_of_steps_passed', 'missed_steps_N', 'norm_passing_time_rate', 'dayly_period', 'N_of_un_days', 'regularity']\n",
    "\n",
    "target = 'score'\n",
    "\n",
    "model = LinearRegression()\n",
    "model.fit(train_fit[features], train_fit[target])\n",
    "\n",
    "train['prediction_score'] = model.predict(train[features])\n",
    "train['predictions'] = 0\n",
    "train.loc[train['prediction_score'] > 90, 'predictions'] = 1"
   ]
  },
  {
   "cell_type": "code",
   "execution_count": 37,
   "metadata": {
    "collapsed": false
   },
   "outputs": [
    {
     "name": "stdout",
     "output_type": "stream",
     "text": [
      "0.430953969313\n",
      "0.490136570561\n",
      "0.948691729323\n"
     ]
    }
   ],
   "source": [
    "print(f1_score(train['passed'], train['predictions']))\n",
    "print(recall_score(train['passed'], train['predictions']))\n",
    "print(accuracy_score(train['passed'], train['predictions']))"
   ]
  },
  {
   "cell_type": "markdown",
   "metadata": {},
   "source": [
    "### Random Forest, который не заработал"
   ]
  },
  {
   "cell_type": "code",
   "execution_count": null,
   "metadata": {
    "collapsed": true
   },
   "outputs": [],
   "source": [
    "# from sklearn.ensemble import RandomForestClassifier\n",
    "# from sklearn.cross_validation import cross_val_predict\n",
    "# from sklearn.cross_validation import KFold\n",
    "\n",
    "# features = ['sum_of_step_cost']\n",
    "# target = 'passed'\n",
    "\n",
    "# rf = RandomForestClassifier(n_estimators = 100, max_depth=3, class_weight=\"balanced\", random_state=1)\n",
    "# kf = KFold(len(train), n_folds=5, random_state=1)\n",
    "# predictions = cross_val_predict(rf, train[features], train[target], cv=kf)\n",
    "# train['predictions'] = pd.Series(predictions)"
   ]
  },
  {
   "cell_type": "markdown",
   "metadata": {},
   "source": [
    "### Предсказание теста по модели линейной регрессии"
   ]
  },
  {
   "cell_type": "code",
   "execution_count": 91,
   "metadata": {
    "collapsed": false
   },
   "outputs": [
    {
     "name": "stderr",
     "output_type": "stream",
     "text": [
      "C:\\Users\\Adamo\\Anaconda3\\lib\\site-packages\\ipykernel\\__main__.py:6: SettingWithCopyWarning: \n",
      "A value is trying to be set on a copy of a slice from a DataFrame.\n",
      "Try using .loc[row_indexer,col_indexer] = value instead\n",
      "\n",
      "See the caveats in the documentation: http://pandas.pydata.org/pandas-docs/stable/indexing.html#indexing-view-versus-copy\n"
     ]
    },
    {
     "data": {
      "text/plain": [
       "0    4042\n",
       "1     213\n",
       "Name: predictions, dtype: int64"
      ]
     },
     "execution_count": 91,
     "metadata": {},
     "output_type": "execute_result"
    }
   ],
   "source": [
    "test = process_table(user_activity_test)\n",
    "\n",
    "test['prediction_score'] = model.predict(test[features])\n",
    "test['predictions'] = 0\n",
    "test.loc[test['prediction_score'] > 90, 'predictions'] = 1\n",
    "\n",
    "test['predictions'].value_counts()"
   ]
  },
  {
   "cell_type": "code",
   "execution_count": 93,
   "metadata": {
    "collapsed": false
   },
   "outputs": [
    {
     "name": "stderr",
     "output_type": "stream",
     "text": [
      "C:\\Users\\Adamo\\Anaconda3\\lib\\site-packages\\ipykernel\\__main__.py:3: SettingWithCopyWarning: \n",
      "A value is trying to be set on a copy of a slice from a DataFrame.\n",
      "Try using .loc[row_indexer,col_indexer] = value instead\n",
      "\n",
      "See the caveats in the documentation: http://pandas.pydata.org/pandas-docs/stable/indexing.html#indexing-view-versus-copy\n",
      "  app.launch_new_instance()\n",
      "C:\\Users\\Adamo\\Anaconda3\\lib\\site-packages\\ipykernel\\__main__.py:4: SettingWithCopyWarning: \n",
      "A value is trying to be set on a copy of a slice from a DataFrame.\n",
      "Try using .loc[row_indexer,col_indexer] = value instead\n",
      "\n",
      "See the caveats in the documentation: http://pandas.pydata.org/pandas-docs/stable/indexing.html#indexing-view-versus-copy\n"
     ]
    }
   ],
   "source": [
    "file = test[['user_id', 'predictions']]\n",
    "file.columns = ['user_id', 'passed']\n",
    "file['user_id'] = file['user_id'].astype('int')\n",
    "file['passed'] = file['passed'].astype('int')\n",
    "file.set_index('user_id', inplace = True)\n",
    "file.to_csv('answers.csv')"
   ]
  }
 ],
 "metadata": {
  "anaconda-cloud": {},
  "kernelspec": {
   "display_name": "Python [default]",
   "language": "python",
   "name": "python3"
  },
  "language_info": {
   "codemirror_mode": {
    "name": "ipython",
    "version": 3
   },
   "file_extension": ".py",
   "mimetype": "text/x-python",
   "name": "python",
   "nbconvert_exporter": "python",
   "pygments_lexer": "ipython3",
   "version": "3.5.2"
  }
 },
 "nbformat": 4,
 "nbformat_minor": 1
}
